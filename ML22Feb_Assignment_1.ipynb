{
 "cells": [
  {
   "cell_type": "code",
   "execution_count": 1,
   "metadata": {},
   "outputs": [
    {
     "name": "stdout",
     "output_type": "stream",
     "text": [
      "Hello world!\n"
     ]
    }
   ],
   "source": [
    "# ML Masters with Deployment 22nd FEB.\n",
    "# Assignment 1\n",
    "# Task 1:\n",
    "# 1. Install Jupyter notebook and run the first program and share the screenshot of the output\n",
    "print(\"Hello world!\")"
   ]
  },
  {
   "cell_type": "code",
   "execution_count": 2,
   "metadata": {},
   "outputs": [
    {
     "name": "stdout",
     "output_type": "stream",
     "text": [
      "2002,2009,2016,2023,2037,2044,2051,2058,2072,2079,2086,2093,2107,2114,2121,2128,2142,2149,2156,2163,2177,2184,2191,2198,2212,2219,2226,2233,2247,2254,2261,2268,2282,2289,2296,2303,2317,2324,2331,2338,2352,2359,2366,2373,2387,2394,2401,2408,2422,2429,2436,2443,2457,2464,2471,2478,2492,2499,2506,2513,2527,2534,2541,2548,2562,2569,2576,2583,2597,2604,2611,2618,2632,2639,2646,2653,2667,2674,2681,2688,2702,2709,2716,2723,2737,2744,2751,2758,2772,2779,2786,2793,2807,2814,2821,2828,2842,2849,2856,2863,2877,2884,2891,2898,2912,2919,2926,2933,2947,2954,2961,2968,2982,2989,2996,3003,3017,3024,3031,3038,3052,3059,3066,3073,3087,3094,3101,3108,3122,3129,3136,3143,3157,3164,3171,3178,3192,3199,"
     ]
    }
   ],
   "source": [
    "#Assignment 1\n",
    "#Task 1:\n",
    "#2.Write a program which will find all such numbers which are divisible by 7 but are not a multiple of 5, \n",
    "#between 2000 and 3200 (both included). The numbers obtained should be printed in a comma-separated sequence \n",
    "#on a single line.\n",
    "\n",
    "for i in range(2000, 3200):\n",
    "    if((i % 7==0 ) and (i % 5 !=0)):\n",
    "        print(i, end =\",\")"
   ]
  },
  {
   "cell_type": "code",
   "execution_count": 5,
   "metadata": {},
   "outputs": [
    {
     "name": "stdout",
     "output_type": "stream",
     "text": [
      "Enter your First Name:\n",
      "James\n",
      "Enter your Last Name:\n",
      "Bond\n",
      "Bond James\n"
     ]
    }
   ],
   "source": [
    "#Assignment 1\n",
    "#Task 1:\n",
    "#3.Write a Python program to accept the user's first and last name and then getting them printed in\n",
    "#the the reverse order with a space between first name and last name.\n",
    "print(\"Enter your First Name:\")\n",
    "fn=input()\n",
    "print(\"Enter your Last Name:\")\n",
    "ln=input()\n",
    "print(ln, fn)"
   ]
  },
  {
   "cell_type": "code",
   "execution_count": 11,
   "metadata": {},
   "outputs": [
    {
     "name": "stdout",
     "output_type": "stream",
     "text": [
      "904.3199999999999\n"
     ]
    }
   ],
   "source": [
    "#Assignment 1\n",
    "#Task 1\n",
    "#4.Write a Python program to find the volume of a sphere with diameter 12 cm.\n",
    "pi=3.14\n",
    "diameter=12\n",
    "radius= 12/2\n",
    "volume= 4/3 * pi * radius**3     #Volume of Sphere 4/3 × π × r3\n",
    "print(volume)"
   ]
  },
  {
   "cell_type": "code",
   "execution_count": 20,
   "metadata": {
    "scrolled": true
   },
   "outputs": [
    {
     "name": "stdout",
     "output_type": "stream",
     "text": [
      "input numbers1 2 3 4\n",
      "['1 2 3 4']\n",
      "('1 2 3 4',)\n"
     ]
    }
   ],
   "source": [
    "#Assignment 1\n",
    "#Task 2:\n",
    "#1.Write a program which accepts a sequence of comma-separated numbers from console and generate a list.\n",
    "x=input(\"input numbers\")\n",
    "myList=x.split(\",\")\n",
    "myTuple=tuple(myList)\n",
    "print(myList)\n",
    "print(myTuple)"
   ]
  },
  {
   "cell_type": "code",
   "execution_count": 97,
   "metadata": {},
   "outputs": [
    {
     "name": "stdout",
     "output_type": "stream",
     "text": [
      "* \r\n",
      "* * \r\n",
      "* * * \r\n",
      "* * * * \r\n",
      "* * * * * \r\n",
      "* * * * \r\n",
      "* * * \r\n",
      "* * \r\n",
      "* \r\n"
     ]
    }
   ],
   "source": [
    "#Assignment 1\n",
    "#Task 2:\n",
    "#1.Create the below pattern using nested for loop in Python. \n",
    "# *  \n",
    "# * * \n",
    "# * * * \n",
    "# * * * *\n",
    "# * * * * *\n",
    "# * * * *\n",
    "# * * *\n",
    "# * *\n",
    "# * \n",
    "\n",
    "for i in range (0,9):\n",
    "    if(i<5):\n",
    "        for j in range(0, i+1):\n",
    "            print(\"*\", end= \" \")\n",
    "        print(\"\\r\")\n",
    "        \n",
    "    else:\n",
    "        for j in range(0, j):\n",
    "            print(\"*\", end= \" \")\n",
    "        print(\"\\r\")    \n",
    "        \n"
   ]
  },
  {
   "cell_type": "code",
   "execution_count": 18,
   "metadata": {},
   "outputs": [
    {
     "name": "stdout",
     "output_type": "stream",
     "text": [
      "enter wordAcadGild\n",
      "dliGdacA"
     ]
    }
   ],
   "source": [
    "#Assignment 1\n",
    "#Task 2\n",
    "#5. Write a Python program to reverse a word after accepting the input from the user. \n",
    " #Input word: AcadGild \n",
    " #Output    : dilGdacA \n",
    "word= input(\"enter word\")\n",
    "for letters in range (len(word)-1,-1,-1):\n",
    "    print(word[letters], end =\"\")\n",
    "\n",
    "\n",
    "\n"
   ]
  },
  {
   "cell_type": "code",
   "execution_count": 20,
   "metadata": {},
   "outputs": [
    {
     "name": "stdout",
     "output_type": "stream",
     "text": [
      "WE, THE PEOPLE OF INDIA,\n",
      "\thaving solemnly resolved to constitute India into a SOVEREIGN,! \n",
      "\t\tSOCIALIST, SECULAR, DEMOCRATIC REPUBLIC \n",
      "\t\t and to secure to all its citizens\n"
     ]
    }
   ],
   "source": [
    "#Assignment 1\n",
    "#Task 2\n",
    "#6. Write a Python Program to print the given string in the format specified in the ​sample output. \n",
    " #WE, THE PEOPLE OF INDIA, having solemnly resolved to constitute India into a SOVEREIGN, SOCIALIST, SECULAR, DEMOCRATIC REPUBLIC and to secure to all its citizens \n",
    " \n",
    "#Sample Output: \n",
    " \n",
    "#WE, THE PEOPLE OF INDIA,   \n",
    "      #having solemnly resolved to constitute India into a SOVEREIGN, !  \n",
    "       #     SOCIALIST, SECULAR, DEMOCRATIC REPUBLIC   \n",
    "        #     and to secure to all its citizens \n",
    " \n",
    " \n",
    "print(\"WE, THE PEOPLE OF INDIA,\\n\\thaving solemnly resolved to constitute India into a SOVEREIGN,! \\n\\t\\tSOCIALIST, SECULAR, DEMOCRATIC REPUBLIC \\n\\t\\t and to secure to all its citizens\")"
   ]
  },
  {
   "cell_type": "code",
   "execution_count": 21,
   "metadata": {},
   "outputs": [
    {
     "data": {
      "text/plain": [
       "'C:\\\\Users\\\\pankaj'"
      ]
     },
     "execution_count": 21,
     "metadata": {},
     "output_type": "execute_result"
    }
   ],
   "source": [
    "pwd"
   ]
  },
  {
   "cell_type": "code",
   "execution_count": null,
   "metadata": {},
   "outputs": [],
   "source": []
  }
 ],
 "metadata": {
  "kernelspec": {
   "display_name": "Python 3",
   "language": "python",
   "name": "python3"
  },
  "language_info": {
   "codemirror_mode": {
    "name": "ipython",
    "version": 3
   },
   "file_extension": ".py",
   "mimetype": "text/x-python",
   "name": "python",
   "nbconvert_exporter": "python",
   "pygments_lexer": "ipython3",
   "version": "3.7.3"
  }
 },
 "nbformat": 4,
 "nbformat_minor": 2
}
